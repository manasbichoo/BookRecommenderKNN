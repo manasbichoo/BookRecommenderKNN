{
 "cells": [
  {
   "cell_type": "code",
   "execution_count": 1,
   "metadata": {},
   "outputs": [],
   "source": [
    "import pandas as pd\n",
    "import numpy as np\n",
    "import scipy"
   ]
  },
  {
   "cell_type": "code",
   "execution_count": 2,
   "metadata": {},
   "outputs": [],
   "source": [
    "datafile= r'C:\\Users\\Hp\\Desktop\\scool\\BX-CSV-Dump\\BX-Book-Ratings.csv'\n",
    "data=pd.read_csv(datafile, sep=';', encoding='latin-1', error_bad_lines=False)\n",
    "data.columns=[\"User\",\"ISBN\",\"Rating\"]\n",
    "bookfile= r'C:\\Users\\Hp\\Desktop\\scool\\BX-CSV-Dump\\BX-Books.csv'\n",
    "books=pd.read_csv(bookfile, sep=';',header=0, usecols=[0,1,2], encoding='latin-1',index_col=0, error_bad_lines=False,names=[\"ISBN\",\"Title\",\"Author\"])"
   ]
  },
  {
   "cell_type": "code",
   "execution_count": 3,
   "metadata": {},
   "outputs": [
    {
     "data": {
      "text/html": [
       "<div>\n",
       "<style scoped>\n",
       "    .dataframe tbody tr th:only-of-type {\n",
       "        vertical-align: middle;\n",
       "    }\n",
       "\n",
       "    .dataframe tbody tr th {\n",
       "        vertical-align: top;\n",
       "    }\n",
       "\n",
       "    .dataframe thead th {\n",
       "        text-align: right;\n",
       "    }\n",
       "</style>\n",
       "<table border=\"1\" class=\"dataframe\">\n",
       "  <thead>\n",
       "    <tr style=\"text-align: right;\">\n",
       "      <th></th>\n",
       "      <th>User</th>\n",
       "      <th>ISBN</th>\n",
       "      <th>Rating</th>\n",
       "    </tr>\n",
       "  </thead>\n",
       "  <tbody>\n",
       "    <tr>\n",
       "      <td>0</td>\n",
       "      <td>276725</td>\n",
       "      <td>034545104X</td>\n",
       "      <td>0</td>\n",
       "    </tr>\n",
       "    <tr>\n",
       "      <td>1</td>\n",
       "      <td>276726</td>\n",
       "      <td>0155061224</td>\n",
       "      <td>5</td>\n",
       "    </tr>\n",
       "    <tr>\n",
       "      <td>2</td>\n",
       "      <td>276727</td>\n",
       "      <td>0446520802</td>\n",
       "      <td>0</td>\n",
       "    </tr>\n",
       "    <tr>\n",
       "      <td>3</td>\n",
       "      <td>276729</td>\n",
       "      <td>052165615X</td>\n",
       "      <td>3</td>\n",
       "    </tr>\n",
       "    <tr>\n",
       "      <td>4</td>\n",
       "      <td>276729</td>\n",
       "      <td>0521795028</td>\n",
       "      <td>6</td>\n",
       "    </tr>\n",
       "  </tbody>\n",
       "</table>\n",
       "</div>"
      ],
      "text/plain": [
       "     User        ISBN  Rating\n",
       "0  276725  034545104X       0\n",
       "1  276726  0155061224       5\n",
       "2  276727  0446520802       0\n",
       "3  276729  052165615X       3\n",
       "4  276729  0521795028       6"
      ]
     },
     "execution_count": 3,
     "metadata": {},
     "output_type": "execute_result"
    }
   ],
   "source": [
    "books.head()\n",
    "data.head()"
   ]
  },
  {
   "cell_type": "code",
   "execution_count": 4,
   "metadata": {},
   "outputs": [
    {
     "data": {
      "text/plain": [
       "('Decision in Normandy', \"Carlo D'Este\")"
      ]
     },
     "execution_count": 4,
     "metadata": {},
     "output_type": "execute_result"
    }
   ],
   "source": [
    "def bookMeta(isbn):   #Return Title,Author of a book using ISBN\n",
    "    title=books.at[isbn,\"Title\"]\n",
    "    author=books.at[isbn, \"Author\"]\n",
    "    return title,author\n",
    "bookMeta('0060973129') #TEST CALL OF FUNCTION"
   ]
  },
  {
   "cell_type": "code",
   "execution_count": 5,
   "metadata": {},
   "outputs": [],
   "source": [
    "def favbooks(user,N): #Return 'N' favorite books of user\n",
    "    userRatings=data[data[\"User\"]==user] #filter relevent user\n",
    "    sortedRatings=pd.DataFrame.sort_values(userRatings,[\"Rating\"],ascending=[0])[:N] #sort the ratings in descending order\n",
    "    sortedRatings[\"title\"]= sortedRatings[\"ISBN\"].apply(bookMeta) #apply bookMeta function\n",
    "    return sortedRatings"
   ]
  },
  {
   "cell_type": "code",
   "execution_count": 6,
   "metadata": {},
   "outputs": [],
   "source": [
    "data=data[data[\"ISBN\"].isin(books.index)] "
   ]
  },
  {
   "cell_type": "code",
   "execution_count": 7,
   "metadata": {},
   "outputs": [
    {
     "data": {
      "text/html": [
       "<div>\n",
       "<style scoped>\n",
       "    .dataframe tbody tr th:only-of-type {\n",
       "        vertical-align: middle;\n",
       "    }\n",
       "\n",
       "    .dataframe tbody tr th {\n",
       "        vertical-align: top;\n",
       "    }\n",
       "\n",
       "    .dataframe thead th {\n",
       "        text-align: right;\n",
       "    }\n",
       "</style>\n",
       "<table border=\"1\" class=\"dataframe\">\n",
       "  <thead>\n",
       "    <tr style=\"text-align: right;\">\n",
       "      <th></th>\n",
       "      <th>User</th>\n",
       "      <th>ISBN</th>\n",
       "      <th>Rating</th>\n",
       "      <th>title</th>\n",
       "    </tr>\n",
       "  </thead>\n",
       "  <tbody>\n",
       "    <tr>\n",
       "      <td>844955</td>\n",
       "      <td>204622</td>\n",
       "      <td>0967560500</td>\n",
       "      <td>10</td>\n",
       "      <td>(Natural Hormonal Enhancement, Rob Faigin)</td>\n",
       "    </tr>\n",
       "    <tr>\n",
       "      <td>844935</td>\n",
       "      <td>204622</td>\n",
       "      <td>0671027360</td>\n",
       "      <td>10</td>\n",
       "      <td>(Angels &amp;amp; Demons, Dan Brown)</td>\n",
       "    </tr>\n",
       "    <tr>\n",
       "      <td>844926</td>\n",
       "      <td>204622</td>\n",
       "      <td>0385504209</td>\n",
       "      <td>10</td>\n",
       "      <td>(The Da Vinci Code, Dan Brown)</td>\n",
       "    </tr>\n",
       "    <tr>\n",
       "      <td>844958</td>\n",
       "      <td>204622</td>\n",
       "      <td>097173660X</td>\n",
       "      <td>9</td>\n",
       "      <td>(Life After School Explained, Cap &amp;amp; Compass)</td>\n",
       "    </tr>\n",
       "    <tr>\n",
       "      <td>844920</td>\n",
       "      <td>204622</td>\n",
       "      <td>0060935464</td>\n",
       "      <td>9</td>\n",
       "      <td>(To Kill a Mockingbird, Harper Lee)</td>\n",
       "    </tr>\n",
       "  </tbody>\n",
       "</table>\n",
       "</div>"
      ],
      "text/plain": [
       "          User        ISBN  Rating  \\\n",
       "844955  204622  0967560500      10   \n",
       "844935  204622  0671027360      10   \n",
       "844926  204622  0385504209      10   \n",
       "844958  204622  097173660X       9   \n",
       "844920  204622  0060935464       9   \n",
       "\n",
       "                                                   title  \n",
       "844955        (Natural Hormonal Enhancement, Rob Faigin)  \n",
       "844935                  (Angels &amp; Demons, Dan Brown)  \n",
       "844926                    (The Da Vinci Code, Dan Brown)  \n",
       "844958  (Life After School Explained, Cap &amp; Compass)  \n",
       "844920               (To Kill a Mockingbird, Harper Lee)  "
      ]
     },
     "execution_count": 7,
     "metadata": {},
     "output_type": "execute_result"
    }
   ],
   "source": [
    "favbooks(204622,5) #TEST CALL OF FUNCTION"
   ]
  },
  {
   "cell_type": "code",
   "execution_count": 8,
   "metadata": {},
   "outputs": [
    {
     "data": {
      "text/plain": [
       "(270170,)"
      ]
     },
     "execution_count": 8,
     "metadata": {},
     "output_type": "execute_result"
    }
   ],
   "source": [
    "UsersPerISBN= data.ISBN.value_counts() #To calculate distinct no of isbn in rating data\n",
    "UsersPerISBN.head(10)\n",
    "UsersPerISBN.shape"
   ]
  },
  {
   "cell_type": "code",
   "execution_count": 9,
   "metadata": {},
   "outputs": [
    {
     "data": {
      "text/plain": [
       "(92107,)"
      ]
     },
     "execution_count": 9,
     "metadata": {},
     "output_type": "execute_result"
    }
   ],
   "source": [
    "ISBNPerUser= data.User.value_counts() #To calculate distinct no. of users\n",
    "ISBNPerUser.shape"
   ]
  },
  {
   "cell_type": "code",
   "execution_count": 10,
   "metadata": {},
   "outputs": [],
   "source": [
    "data=data[data[\"ISBN\"].isin(UsersPerISBN[UsersPerISBN>10].index)] #Books read by more than 10 users\n",
    "data=data[data[\"User\"].isin(ISBNPerUser[ISBNPerUser>10].index)]   #Users who've read more than 10 books"
   ]
  },
  {
   "cell_type": "code",
   "execution_count": 11,
   "metadata": {},
   "outputs": [],
   "source": [
    "UserItemRatingMatrix=pd.pivot_table(data, values='Rating',index=['User'],columns=['ISBN']) #User-Book sparce matrix"
   ]
  },
  {
   "cell_type": "code",
   "execution_count": 12,
   "metadata": {},
   "outputs": [
    {
     "data": {
      "text/html": [
       "<div>\n",
       "<style scoped>\n",
       "    .dataframe tbody tr th:only-of-type {\n",
       "        vertical-align: middle;\n",
       "    }\n",
       "\n",
       "    .dataframe tbody tr th {\n",
       "        vertical-align: top;\n",
       "    }\n",
       "\n",
       "    .dataframe thead th {\n",
       "        text-align: right;\n",
       "    }\n",
       "</style>\n",
       "<table border=\"1\" class=\"dataframe\">\n",
       "  <thead>\n",
       "    <tr style=\"text-align: right;\">\n",
       "      <th>ISBN</th>\n",
       "      <th>0002005018</th>\n",
       "      <th>0002251760</th>\n",
       "      <th>0002259834</th>\n",
       "      <th>0002558122</th>\n",
       "      <th>0006480764</th>\n",
       "      <th>000648302X</th>\n",
       "      <th>0006485200</th>\n",
       "      <th>000649840X</th>\n",
       "      <th>000651202X</th>\n",
       "      <th>0006512062</th>\n",
       "      <th>...</th>\n",
       "      <th>8845906884</th>\n",
       "      <th>8845915611</th>\n",
       "      <th>8878188212</th>\n",
       "      <th>8885989403</th>\n",
       "      <th>9074336329</th>\n",
       "      <th>9074336469</th>\n",
       "      <th>950491036X</th>\n",
       "      <th>9681500830</th>\n",
       "      <th>9681500954</th>\n",
       "      <th>9871138016</th>\n",
       "    </tr>\n",
       "    <tr>\n",
       "      <th>User</th>\n",
       "      <th></th>\n",
       "      <th></th>\n",
       "      <th></th>\n",
       "      <th></th>\n",
       "      <th></th>\n",
       "      <th></th>\n",
       "      <th></th>\n",
       "      <th></th>\n",
       "      <th></th>\n",
       "      <th></th>\n",
       "      <th></th>\n",
       "      <th></th>\n",
       "      <th></th>\n",
       "      <th></th>\n",
       "      <th></th>\n",
       "      <th></th>\n",
       "      <th></th>\n",
       "      <th></th>\n",
       "      <th></th>\n",
       "      <th></th>\n",
       "      <th></th>\n",
       "    </tr>\n",
       "  </thead>\n",
       "  <tbody>\n",
       "    <tr>\n",
       "      <td>8</td>\n",
       "      <td>5.0</td>\n",
       "      <td>NaN</td>\n",
       "      <td>NaN</td>\n",
       "      <td>NaN</td>\n",
       "      <td>NaN</td>\n",
       "      <td>NaN</td>\n",
       "      <td>NaN</td>\n",
       "      <td>NaN</td>\n",
       "      <td>NaN</td>\n",
       "      <td>NaN</td>\n",
       "      <td>...</td>\n",
       "      <td>NaN</td>\n",
       "      <td>NaN</td>\n",
       "      <td>NaN</td>\n",
       "      <td>NaN</td>\n",
       "      <td>NaN</td>\n",
       "      <td>NaN</td>\n",
       "      <td>NaN</td>\n",
       "      <td>NaN</td>\n",
       "      <td>NaN</td>\n",
       "      <td>NaN</td>\n",
       "    </tr>\n",
       "    <tr>\n",
       "      <td>99</td>\n",
       "      <td>NaN</td>\n",
       "      <td>NaN</td>\n",
       "      <td>NaN</td>\n",
       "      <td>NaN</td>\n",
       "      <td>NaN</td>\n",
       "      <td>NaN</td>\n",
       "      <td>NaN</td>\n",
       "      <td>NaN</td>\n",
       "      <td>NaN</td>\n",
       "      <td>NaN</td>\n",
       "      <td>...</td>\n",
       "      <td>NaN</td>\n",
       "      <td>NaN</td>\n",
       "      <td>NaN</td>\n",
       "      <td>NaN</td>\n",
       "      <td>NaN</td>\n",
       "      <td>NaN</td>\n",
       "      <td>NaN</td>\n",
       "      <td>NaN</td>\n",
       "      <td>NaN</td>\n",
       "      <td>NaN</td>\n",
       "    </tr>\n",
       "    <tr>\n",
       "      <td>242</td>\n",
       "      <td>NaN</td>\n",
       "      <td>NaN</td>\n",
       "      <td>NaN</td>\n",
       "      <td>NaN</td>\n",
       "      <td>NaN</td>\n",
       "      <td>NaN</td>\n",
       "      <td>NaN</td>\n",
       "      <td>NaN</td>\n",
       "      <td>NaN</td>\n",
       "      <td>NaN</td>\n",
       "      <td>...</td>\n",
       "      <td>NaN</td>\n",
       "      <td>NaN</td>\n",
       "      <td>NaN</td>\n",
       "      <td>NaN</td>\n",
       "      <td>NaN</td>\n",
       "      <td>NaN</td>\n",
       "      <td>NaN</td>\n",
       "      <td>NaN</td>\n",
       "      <td>NaN</td>\n",
       "      <td>NaN</td>\n",
       "    </tr>\n",
       "    <tr>\n",
       "      <td>243</td>\n",
       "      <td>NaN</td>\n",
       "      <td>NaN</td>\n",
       "      <td>NaN</td>\n",
       "      <td>NaN</td>\n",
       "      <td>NaN</td>\n",
       "      <td>NaN</td>\n",
       "      <td>NaN</td>\n",
       "      <td>NaN</td>\n",
       "      <td>NaN</td>\n",
       "      <td>NaN</td>\n",
       "      <td>...</td>\n",
       "      <td>NaN</td>\n",
       "      <td>NaN</td>\n",
       "      <td>NaN</td>\n",
       "      <td>NaN</td>\n",
       "      <td>NaN</td>\n",
       "      <td>NaN</td>\n",
       "      <td>NaN</td>\n",
       "      <td>NaN</td>\n",
       "      <td>NaN</td>\n",
       "      <td>NaN</td>\n",
       "    </tr>\n",
       "    <tr>\n",
       "      <td>254</td>\n",
       "      <td>NaN</td>\n",
       "      <td>NaN</td>\n",
       "      <td>NaN</td>\n",
       "      <td>NaN</td>\n",
       "      <td>NaN</td>\n",
       "      <td>NaN</td>\n",
       "      <td>NaN</td>\n",
       "      <td>NaN</td>\n",
       "      <td>NaN</td>\n",
       "      <td>NaN</td>\n",
       "      <td>...</td>\n",
       "      <td>NaN</td>\n",
       "      <td>NaN</td>\n",
       "      <td>NaN</td>\n",
       "      <td>NaN</td>\n",
       "      <td>NaN</td>\n",
       "      <td>NaN</td>\n",
       "      <td>NaN</td>\n",
       "      <td>NaN</td>\n",
       "      <td>NaN</td>\n",
       "      <td>NaN</td>\n",
       "    </tr>\n",
       "  </tbody>\n",
       "</table>\n",
       "<p>5 rows × 15451 columns</p>\n",
       "</div>"
      ],
      "text/plain": [
       "ISBN  0002005018  0002251760  0002259834  0002558122  0006480764  000648302X  \\\n",
       "User                                                                           \n",
       "8            5.0         NaN         NaN         NaN         NaN         NaN   \n",
       "99           NaN         NaN         NaN         NaN         NaN         NaN   \n",
       "242          NaN         NaN         NaN         NaN         NaN         NaN   \n",
       "243          NaN         NaN         NaN         NaN         NaN         NaN   \n",
       "254          NaN         NaN         NaN         NaN         NaN         NaN   \n",
       "\n",
       "ISBN  0006485200  000649840X  000651202X  0006512062  ...  8845906884  \\\n",
       "User                                                  ...               \n",
       "8            NaN         NaN         NaN         NaN  ...         NaN   \n",
       "99           NaN         NaN         NaN         NaN  ...         NaN   \n",
       "242          NaN         NaN         NaN         NaN  ...         NaN   \n",
       "243          NaN         NaN         NaN         NaN  ...         NaN   \n",
       "254          NaN         NaN         NaN         NaN  ...         NaN   \n",
       "\n",
       "ISBN  8845915611  8878188212  8885989403  9074336329  9074336469  950491036X  \\\n",
       "User                                                                           \n",
       "8            NaN         NaN         NaN         NaN         NaN         NaN   \n",
       "99           NaN         NaN         NaN         NaN         NaN         NaN   \n",
       "242          NaN         NaN         NaN         NaN         NaN         NaN   \n",
       "243          NaN         NaN         NaN         NaN         NaN         NaN   \n",
       "254          NaN         NaN         NaN         NaN         NaN         NaN   \n",
       "\n",
       "ISBN  9681500830  9681500954  9871138016  \n",
       "User                                      \n",
       "8            NaN         NaN         NaN  \n",
       "99           NaN         NaN         NaN  \n",
       "242          NaN         NaN         NaN  \n",
       "243          NaN         NaN         NaN  \n",
       "254          NaN         NaN         NaN  \n",
       "\n",
       "[5 rows x 15451 columns]"
      ]
     },
     "execution_count": 12,
     "metadata": {},
     "output_type": "execute_result"
    }
   ],
   "source": [
    "UserItemRatingMatrix.head()"
   ]
  },
  {
   "cell_type": "markdown",
   "metadata": {},
   "source": [
    "Calculating The EUCLIDIAN DISTANCE BTW TWO USERS ON N- Dimensional space:"
   ]
  },
  {
   "cell_type": "code",
   "execution_count": 13,
   "metadata": {},
   "outputs": [
    {
     "data": {
      "text/plain": [
       "ISBN\n",
       "0002005018   NaN\n",
       "0002251760   NaN\n",
       "0002259834   NaN\n",
       "0002558122   NaN\n",
       "0006480764   NaN\n",
       "Name: 204622, dtype: float64"
      ]
     },
     "execution_count": 13,
     "metadata": {},
     "output_type": "execute_result"
    }
   ],
   "source": [
    "user1=204622\n",
    "user2=255489\n",
    "user1Ratings=UserItemRatingMatrix.transpose()[user1]\n",
    "user1Ratings.head()"
   ]
  },
  {
   "cell_type": "code",
   "execution_count": 14,
   "metadata": {},
   "outputs": [
    {
     "data": {
      "text/plain": [
       "ISBN\n",
       "0002005018   NaN\n",
       "0002251760   NaN\n",
       "0002259834   NaN\n",
       "0002558122   NaN\n",
       "0006480764   NaN\n",
       "Name: 255489, dtype: float64"
      ]
     },
     "execution_count": 14,
     "metadata": {},
     "output_type": "execute_result"
    }
   ],
   "source": [
    "user2Ratings=UserItemRatingMatrix.transpose()[user2]\n",
    "user2Ratings.head()"
   ]
  },
  {
   "cell_type": "code",
   "execution_count": 15,
   "metadata": {},
   "outputs": [
    {
     "data": {
      "text/plain": [
       "0.9999352792699502"
      ]
     },
     "execution_count": 15,
     "metadata": {},
     "output_type": "execute_result"
    }
   ],
   "source": [
    "from scipy.spatial.distance import hamming\n",
    "hamming(user1Ratings,user2Ratings)"
   ]
  },
  {
   "cell_type": "code",
   "execution_count": 16,
   "metadata": {},
   "outputs": [],
   "source": [
    "#FUNCTION TO CALCULATE HAMMING DISTANCE BTW 2 USERS\n",
    "def distance(user1,user2):\n",
    "    try:\n",
    "        user1Ratings=UserItemRatingMatrix.transpose()[user1]\n",
    "        user2Ratings=UserItemRatingMatrix.transpose()[user2]\n",
    "        distance=hamming(user1Ratings,user2Ratings)\n",
    "    except:\n",
    "        distance=np.NaN\n",
    "    return distance\n",
    "        "
   ]
  },
  {
   "cell_type": "code",
   "execution_count": 17,
   "metadata": {},
   "outputs": [
    {
     "data": {
      "text/plain": [
       "0.9999352792699502"
      ]
     },
     "execution_count": 17,
     "metadata": {},
     "output_type": "execute_result"
    }
   ],
   "source": [
    "distance(204622,255489) #test run of distance function"
   ]
  },
  {
   "cell_type": "code",
   "execution_count": 22,
   "metadata": {},
   "outputs": [],
   "source": [
    "# FUNCTION TO FIND K nearest neighbors:\n",
    "def nearestNeighbors(user,K=10):\n",
    "    allUsers=pd.DataFrame(UserItemRatingMatrix.index) #ALL USERS\n",
    "    allUsers=allUsers[allUsers.User!=user]            #ALL USERS OTHER THAN ACTIVE USER\n",
    "    allUsers[\"distance\"]=allUsers[\"User\"].apply(lambda x:distance(user,x))   #DISTANCE OF ALL USERS FROM ACTIVE USER\n",
    "    Knearestusers= allUsers.sort_values([\"distance\"],ascending=True)[\"User\"][:K] #K nearest neignbors of active user\n",
    "    return Knearestusers\n",
    "    "
   ]
  },
  {
   "cell_type": "code",
   "execution_count": 23,
   "metadata": {},
   "outputs": [
    {
     "data": {
      "text/plain": [
       "3201     82893\n",
       "3368     87555\n",
       "2624     68555\n",
       "1813     48046\n",
       "5401    140036\n",
       "7584    198711\n",
       "565      16795\n",
       "8866    232131\n",
       "239       7346\n",
       "9693    251422\n",
       "Name: User, dtype: int64"
      ]
     },
     "execution_count": 23,
     "metadata": {},
     "output_type": "execute_result"
    }
   ],
   "source": [
    "knearestusers= nearestNeighbors(204622) #TEST RUN OF KNN Function\n",
    "knearestusers"
   ]
  },
  {
   "cell_type": "code",
   "execution_count": 46,
   "metadata": {},
   "outputs": [],
   "source": [
    "# FIND THE TOP \"N\" RECOMMENDATIONS FOR THE ACTIVE USER:\n",
    "def topN(user,N=3):\n",
    "    knearestusers=nearestNeighbors(user)\n",
    "    NNRatings=UserItemRatingMatrix[UserItemRatingMatrix.index.isin(knearestusers)]\n",
    "    avgRatings=NNRatings.apply(np.nanmean).dropna()\n",
    "    booksAlreadyRead=UserItemRatingMatrix.transpose()[user].dropna().index\n",
    "    avgRatings=avgRatings[~avgRatings.index.isin(booksAlreadyRead)]\n",
    "    topNISBNs=avgRatings.sort_values(ascending=False).index[:N]\n",
    "    return pd.Series(topNISBNs).apply(bookMeta)\n"
   ]
  },
  {
   "cell_type": "code",
   "execution_count": 47,
   "metadata": {},
   "outputs": [
    {
     "data": {
      "text/html": [
       "<div>\n",
       "<style scoped>\n",
       "    .dataframe tbody tr th:only-of-type {\n",
       "        vertical-align: middle;\n",
       "    }\n",
       "\n",
       "    .dataframe tbody tr th {\n",
       "        vertical-align: top;\n",
       "    }\n",
       "\n",
       "    .dataframe thead th {\n",
       "        text-align: right;\n",
       "    }\n",
       "</style>\n",
       "<table border=\"1\" class=\"dataframe\">\n",
       "  <thead>\n",
       "    <tr style=\"text-align: right;\">\n",
       "      <th></th>\n",
       "      <th>User</th>\n",
       "      <th>ISBN</th>\n",
       "      <th>Rating</th>\n",
       "      <th>title</th>\n",
       "    </tr>\n",
       "  </thead>\n",
       "  <tbody>\n",
       "    <tr>\n",
       "      <td>845417</td>\n",
       "      <td>204813</td>\n",
       "      <td>0399149848</td>\n",
       "      <td>10</td>\n",
       "      <td>(Birthright, Nora Roberts)</td>\n",
       "    </tr>\n",
       "    <tr>\n",
       "      <td>845407</td>\n",
       "      <td>204813</td>\n",
       "      <td>0385504209</td>\n",
       "      <td>10</td>\n",
       "      <td>(The Da Vinci Code, Dan Brown)</td>\n",
       "    </tr>\n",
       "    <tr>\n",
       "      <td>845382</td>\n",
       "      <td>204813</td>\n",
       "      <td>0373218036</td>\n",
       "      <td>10</td>\n",
       "      <td>(Truly, Madly Manhattan, Nora Roberts)</td>\n",
       "    </tr>\n",
       "    <tr>\n",
       "      <td>845359</td>\n",
       "      <td>204813</td>\n",
       "      <td>0142001805</td>\n",
       "      <td>10</td>\n",
       "      <td>(The Eyre Affair: A Novel, Jasper Fforde)</td>\n",
       "    </tr>\n",
       "    <tr>\n",
       "      <td>845431</td>\n",
       "      <td>204813</td>\n",
       "      <td>0446527793</td>\n",
       "      <td>10</td>\n",
       "      <td>(The Guardian, Nicholas Sparks)</td>\n",
       "    </tr>\n",
       "    <tr>\n",
       "      <td>845416</td>\n",
       "      <td>204813</td>\n",
       "      <td>0399149392</td>\n",
       "      <td>10</td>\n",
       "      <td>(Chesapeake Blue (Quinn Brothers (Hardcover)),...</td>\n",
       "    </tr>\n",
       "    <tr>\n",
       "      <td>845432</td>\n",
       "      <td>204813</td>\n",
       "      <td>0446531332</td>\n",
       "      <td>9</td>\n",
       "      <td>(Nights in Rodanthe, Nicholas Sparks)</td>\n",
       "    </tr>\n",
       "    <tr>\n",
       "      <td>845434</td>\n",
       "      <td>204813</td>\n",
       "      <td>0446606243</td>\n",
       "      <td>9</td>\n",
       "      <td>(The Tenth Justice, Brad Meltzer)</td>\n",
       "    </tr>\n",
       "    <tr>\n",
       "      <td>845451</td>\n",
       "      <td>204813</td>\n",
       "      <td>0671027360</td>\n",
       "      <td>9</td>\n",
       "      <td>(Angels &amp;amp; Demons, Dan Brown)</td>\n",
       "    </tr>\n",
       "    <tr>\n",
       "      <td>845433</td>\n",
       "      <td>204813</td>\n",
       "      <td>0446532452</td>\n",
       "      <td>9</td>\n",
       "      <td>(The Wedding, Nicholas Sparks)</td>\n",
       "    </tr>\n",
       "  </tbody>\n",
       "</table>\n",
       "</div>"
      ],
      "text/plain": [
       "          User        ISBN  Rating  \\\n",
       "845417  204813  0399149848      10   \n",
       "845407  204813  0385504209      10   \n",
       "845382  204813  0373218036      10   \n",
       "845359  204813  0142001805      10   \n",
       "845431  204813  0446527793      10   \n",
       "845416  204813  0399149392      10   \n",
       "845432  204813  0446531332       9   \n",
       "845434  204813  0446606243       9   \n",
       "845451  204813  0671027360       9   \n",
       "845433  204813  0446532452       9   \n",
       "\n",
       "                                                    title  \n",
       "845417                         (Birthright, Nora Roberts)  \n",
       "845407                     (The Da Vinci Code, Dan Brown)  \n",
       "845382             (Truly, Madly Manhattan, Nora Roberts)  \n",
       "845359          (The Eyre Affair: A Novel, Jasper Fforde)  \n",
       "845431                    (The Guardian, Nicholas Sparks)  \n",
       "845416  (Chesapeake Blue (Quinn Brothers (Hardcover)),...  \n",
       "845432              (Nights in Rodanthe, Nicholas Sparks)  \n",
       "845434                  (The Tenth Justice, Brad Meltzer)  \n",
       "845451                   (Angels &amp; Demons, Dan Brown)  \n",
       "845433                     (The Wedding, Nicholas Sparks)  "
      ]
     },
     "execution_count": 47,
     "metadata": {},
     "output_type": "execute_result"
    }
   ],
   "source": [
    "favbooks(204813,10) #favorite books of the active user"
   ]
  },
  {
   "cell_type": "code",
   "execution_count": 48,
   "metadata": {},
   "outputs": [
    {
     "data": {
      "text/plain": [
       "0    (Waiting For Nick (Silhouette Special Edition)...\n",
       "1           (Wringer (Trophy Newbery), Jerry Spinelli)\n",
       "2    (The Star Wars Trilogy: Star Wars, the Empire ...\n",
       "3          (One, Two, Buckle My Shoe, Agatha Christie)\n",
       "4                          (On the Road, Jack Kerouac)\n",
       "5                 (Dead Poets Society, N.H. Kleinbaum)\n",
       "6     (Go Ask Alice (Avon/Flare Book), James Jennings)\n",
       "7                        (Carolina Moon, Nora Roberts)\n",
       "8    (Illusions: The Adventures of a Reluctant Mess...\n",
       "9    (You Just Don't Duct Tape a Baby!: True Tales ...\n",
       "Name: ISBN, dtype: object"
      ]
     },
     "execution_count": 48,
     "metadata": {},
     "output_type": "execute_result"
    }
   ],
   "source": [
    "topN(204813,10) #TOP 10 recommendation of books for the active user"
   ]
  }
 ],
 "metadata": {
  "kernelspec": {
   "display_name": "Python 3",
   "language": "python",
   "name": "python3"
  },
  "language_info": {
   "codemirror_mode": {
    "name": "ipython",
    "version": 3
   },
   "file_extension": ".py",
   "mimetype": "text/x-python",
   "name": "python",
   "nbconvert_exporter": "python",
   "pygments_lexer": "ipython3",
   "version": "3.7.4"
  }
 },
 "nbformat": 4,
 "nbformat_minor": 2
}
